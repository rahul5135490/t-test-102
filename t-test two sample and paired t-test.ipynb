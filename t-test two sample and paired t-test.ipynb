{
 "cells": [
  {
   "cell_type": "code",
   "execution_count": 1,
   "id": "9bcad20e",
   "metadata": {},
   "outputs": [],
   "source": [
    "import numpy as np"
   ]
  },
  {
   "cell_type": "code",
   "execution_count": 2,
   "id": "7dc5d885",
   "metadata": {},
   "outputs": [],
   "source": [
    "import pandas as pd"
   ]
  },
  {
   "cell_type": "code",
   "execution_count": 3,
   "id": "92af2842",
   "metadata": {},
   "outputs": [],
   "source": [
    "import scipy.stats as stats"
   ]
  },
  {
   "cell_type": "code",
   "execution_count": 4,
   "id": "e1d3895c",
   "metadata": {},
   "outputs": [],
   "source": [
    "import math"
   ]
  },
  {
   "cell_type": "code",
   "execution_count": 5,
   "id": "f243e80a",
   "metadata": {},
   "outputs": [],
   "source": [
    "np.random.seed(6)"
   ]
  },
  {
   "cell_type": "code",
   "execution_count": 6,
   "id": "a8187c63",
   "metadata": {},
   "outputs": [],
   "source": [
    "school_ages=stats.poisson.rvs(loc=18,mu=35,size=1500)\n",
    "classA_ages=stats.poisson.rvs(loc=18,mu=30,size=60)\n"
   ]
  },
  {
   "cell_type": "code",
   "execution_count": 7,
   "id": "c530683d",
   "metadata": {},
   "outputs": [
    {
     "data": {
      "text/plain": [
       "46.9"
      ]
     },
     "execution_count": 7,
     "metadata": {},
     "output_type": "execute_result"
    }
   ],
   "source": [
    "classA_ages.mean()"
   ]
  },
  {
   "cell_type": "code",
   "execution_count": 8,
   "id": "d9ffefe4",
   "metadata": {},
   "outputs": [],
   "source": [
    "from scipy.stats import ttest_1samp"
   ]
  },
  {
   "cell_type": "code",
   "execution_count": 9,
   "id": "0eaf3e64",
   "metadata": {},
   "outputs": [],
   "source": [
    "ttest,p_value=ttest_1samp(a=classA_ages,popmean=school_ages.mean())"
   ]
  },
  {
   "cell_type": "code",
   "execution_count": 10,
   "id": "39704a56",
   "metadata": {},
   "outputs": [
    {
     "data": {
      "text/plain": [
       "53.303333333333335"
      ]
     },
     "execution_count": 10,
     "metadata": {},
     "output_type": "execute_result"
    }
   ],
   "source": [
    "school_ages.mean()"
   ]
  },
  {
   "cell_type": "code",
   "execution_count": 11,
   "id": "1487b4be",
   "metadata": {},
   "outputs": [
    {
     "data": {
      "text/plain": [
       "1.139027071016194e-13"
      ]
     },
     "execution_count": 11,
     "metadata": {},
     "output_type": "execute_result"
    }
   ],
   "source": [
    "p_value"
   ]
  },
  {
   "cell_type": "code",
   "execution_count": 12,
   "id": "ca58948c",
   "metadata": {},
   "outputs": [],
   "source": [
    "# hence we are rejecting the null hypothesis"
   ]
  },
  {
   "cell_type": "code",
   "execution_count": 13,
   "id": "7338b9f8",
   "metadata": {},
   "outputs": [
    {
     "name": "stdout",
     "output_type": "stream",
     "text": [
      "we are rejecting null hypothesis\n"
     ]
    }
   ],
   "source": [
    "if p_value < 0.5: # alpha value is 0.05 or 5%\n",
    "      print(\"we are rejecting null hypothesis\")\n",
    "else:\n",
    "        print(\"we are accepting null hypothesis\")"
   ]
  },
  {
   "cell_type": "code",
   "execution_count": 14,
   "id": "30f2cff6",
   "metadata": {},
   "outputs": [
    {
     "data": {
      "text/plain": [
       "50.63333333333333"
      ]
     },
     "execution_count": 14,
     "metadata": {},
     "output_type": "execute_result"
    }
   ],
   "source": [
    "np.random.seed(12)\n",
    "classB_ages=stats.poisson.rvs(loc=18,mu=33,size=60)\n",
    "classB_ages.mean()\n"
   ]
  },
  {
   "cell_type": "code",
   "execution_count": 15,
   "id": "4ee598ec",
   "metadata": {},
   "outputs": [],
   "source": [
    "ttest,p_value=stats.ttest_ind(a=classA_ages,b=classB_ages,equal_var=False)"
   ]
  },
  {
   "cell_type": "code",
   "execution_count": 16,
   "id": "d63d2c79",
   "metadata": {},
   "outputs": [
    {
     "data": {
      "text/plain": [
       "0.00039942095100859375"
      ]
     },
     "execution_count": 16,
     "metadata": {},
     "output_type": "execute_result"
    }
   ],
   "source": [
    "p_value"
   ]
  },
  {
   "cell_type": "code",
   "execution_count": 17,
   "id": "517c9c49",
   "metadata": {},
   "outputs": [
    {
     "name": "stdout",
     "output_type": "stream",
     "text": [
      "we are rejecting null hypothesis\n"
     ]
    }
   ],
   "source": [
    "if p_value < 0.05: # alpha value is 0.05 or 5%\n",
    "      print(\"we are rejecting null hypothesis\")\n",
    "else:\n",
    "        print(\"we are accepting null hypothesis\")"
   ]
  },
  {
   "cell_type": "markdown",
   "id": "a2570eee",
   "metadata": {},
   "source": [
    "# paired t test with python"
   ]
  },
  {
   "cell_type": "code",
   "execution_count": 18,
   "id": "1ea0376c",
   "metadata": {},
   "outputs": [],
   "source": [
    "weight1=[25,30,28,35,28,34,26,29,30,26,28,32,31,30,45]"
   ]
  },
  {
   "cell_type": "code",
   "execution_count": 19,
   "id": "182c5281",
   "metadata": {},
   "outputs": [],
   "source": [
    "weight2=weight1+stats.norm.rvs(scale=5,loc=1.25,size=15)"
   ]
  },
  {
   "cell_type": "code",
   "execution_count": 20,
   "id": "9e857605",
   "metadata": {},
   "outputs": [
    {
     "name": "stdout",
     "output_type": "stream",
     "text": [
      "[25, 30, 28, 35, 28, 34, 26, 29, 30, 26, 28, 32, 31, 30, 45]\n"
     ]
    }
   ],
   "source": [
    "print(weight1)"
   ]
  },
  {
   "cell_type": "code",
   "execution_count": 21,
   "id": "f2ffd6bd",
   "metadata": {},
   "outputs": [
    {
     "name": "stdout",
     "output_type": "stream",
     "text": [
      "[33.07926457 37.41022437 31.50444617 33.04295091 22.36201983 40.07873174\n",
      " 20.8299827  23.8771395  38.86420881 34.55941216 29.43827982 32.019014\n",
      " 28.92851213 33.00667769 43.82984284]\n"
     ]
    }
   ],
   "source": [
    "print(weight2)"
   ]
  },
  {
   "cell_type": "code",
   "execution_count": 22,
   "id": "49e878d1",
   "metadata": {},
   "outputs": [],
   "source": [
    "weight_df=pd.DataFrame({\"weight_10\":np.array(weight1),\"weight_20\":np.array(weight2), \"weight_change\":np.array(weight2)-np.array(weight1)})"
   ]
  },
  {
   "cell_type": "code",
   "execution_count": 23,
   "id": "a767ccb7",
   "metadata": {},
   "outputs": [
    {
     "data": {
      "text/html": [
       "<div>\n",
       "<style scoped>\n",
       "    .dataframe tbody tr th:only-of-type {\n",
       "        vertical-align: middle;\n",
       "    }\n",
       "\n",
       "    .dataframe tbody tr th {\n",
       "        vertical-align: top;\n",
       "    }\n",
       "\n",
       "    .dataframe thead th {\n",
       "        text-align: right;\n",
       "    }\n",
       "</style>\n",
       "<table border=\"1\" class=\"dataframe\">\n",
       "  <thead>\n",
       "    <tr style=\"text-align: right;\">\n",
       "      <th></th>\n",
       "      <th>weight_10</th>\n",
       "      <th>weight_20</th>\n",
       "      <th>weight_change</th>\n",
       "    </tr>\n",
       "  </thead>\n",
       "  <tbody>\n",
       "    <tr>\n",
       "      <th>0</th>\n",
       "      <td>25</td>\n",
       "      <td>33.079265</td>\n",
       "      <td>8.079265</td>\n",
       "    </tr>\n",
       "    <tr>\n",
       "      <th>1</th>\n",
       "      <td>30</td>\n",
       "      <td>37.410224</td>\n",
       "      <td>7.410224</td>\n",
       "    </tr>\n",
       "    <tr>\n",
       "      <th>2</th>\n",
       "      <td>28</td>\n",
       "      <td>31.504446</td>\n",
       "      <td>3.504446</td>\n",
       "    </tr>\n",
       "    <tr>\n",
       "      <th>3</th>\n",
       "      <td>35</td>\n",
       "      <td>33.042951</td>\n",
       "      <td>-1.957049</td>\n",
       "    </tr>\n",
       "    <tr>\n",
       "      <th>4</th>\n",
       "      <td>28</td>\n",
       "      <td>22.362020</td>\n",
       "      <td>-5.637980</td>\n",
       "    </tr>\n",
       "    <tr>\n",
       "      <th>5</th>\n",
       "      <td>34</td>\n",
       "      <td>40.078732</td>\n",
       "      <td>6.078732</td>\n",
       "    </tr>\n",
       "    <tr>\n",
       "      <th>6</th>\n",
       "      <td>26</td>\n",
       "      <td>20.829983</td>\n",
       "      <td>-5.170017</td>\n",
       "    </tr>\n",
       "    <tr>\n",
       "      <th>7</th>\n",
       "      <td>29</td>\n",
       "      <td>23.877139</td>\n",
       "      <td>-5.122861</td>\n",
       "    </tr>\n",
       "    <tr>\n",
       "      <th>8</th>\n",
       "      <td>30</td>\n",
       "      <td>38.864209</td>\n",
       "      <td>8.864209</td>\n",
       "    </tr>\n",
       "    <tr>\n",
       "      <th>9</th>\n",
       "      <td>26</td>\n",
       "      <td>34.559412</td>\n",
       "      <td>8.559412</td>\n",
       "    </tr>\n",
       "    <tr>\n",
       "      <th>10</th>\n",
       "      <td>28</td>\n",
       "      <td>29.438280</td>\n",
       "      <td>1.438280</td>\n",
       "    </tr>\n",
       "    <tr>\n",
       "      <th>11</th>\n",
       "      <td>32</td>\n",
       "      <td>32.019014</td>\n",
       "      <td>0.019014</td>\n",
       "    </tr>\n",
       "    <tr>\n",
       "      <th>12</th>\n",
       "      <td>31</td>\n",
       "      <td>28.928512</td>\n",
       "      <td>-2.071488</td>\n",
       "    </tr>\n",
       "    <tr>\n",
       "      <th>13</th>\n",
       "      <td>30</td>\n",
       "      <td>33.006678</td>\n",
       "      <td>3.006678</td>\n",
       "    </tr>\n",
       "    <tr>\n",
       "      <th>14</th>\n",
       "      <td>45</td>\n",
       "      <td>43.829843</td>\n",
       "      <td>-1.170157</td>\n",
       "    </tr>\n",
       "  </tbody>\n",
       "</table>\n",
       "</div>"
      ],
      "text/plain": [
       "    weight_10  weight_20  weight_change\n",
       "0          25  33.079265       8.079265\n",
       "1          30  37.410224       7.410224\n",
       "2          28  31.504446       3.504446\n",
       "3          35  33.042951      -1.957049\n",
       "4          28  22.362020      -5.637980\n",
       "5          34  40.078732       6.078732\n",
       "6          26  20.829983      -5.170017\n",
       "7          29  23.877139      -5.122861\n",
       "8          30  38.864209       8.864209\n",
       "9          26  34.559412       8.559412\n",
       "10         28  29.438280       1.438280\n",
       "11         32  32.019014       0.019014\n",
       "12         31  28.928512      -2.071488\n",
       "13         30  33.006678       3.006678\n",
       "14         45  43.829843      -1.170157"
      ]
     },
     "execution_count": 23,
     "metadata": {},
     "output_type": "execute_result"
    }
   ],
   "source": [
    "weight_df"
   ]
  },
  {
   "cell_type": "code",
   "execution_count": 24,
   "id": "87fd2827",
   "metadata": {},
   "outputs": [],
   "source": [
    "ttest,p_value=stats.ttest_rel(a=weight1,b=weight2)"
   ]
  },
  {
   "cell_type": "code",
   "execution_count": 25,
   "id": "fe321629",
   "metadata": {},
   "outputs": [
    {
     "data": {
      "text/plain": [
       "0.22252101288036757"
      ]
     },
     "execution_count": 25,
     "metadata": {},
     "output_type": "execute_result"
    }
   ],
   "source": [
    "p_value"
   ]
  },
  {
   "cell_type": "code",
   "execution_count": 26,
   "id": "9aff9206",
   "metadata": {},
   "outputs": [
    {
     "name": "stdout",
     "output_type": "stream",
     "text": [
      "we are accepting null hypothesis\n"
     ]
    }
   ],
   "source": [
    "if p_value < 0.05: # alpha value is 0.05 or 5%\n",
    "      print(\"we are rejecting null hypothesis\")\n",
    "else:\n",
    "        print(\"we are accepting null hypothesis\")"
   ]
  },
  {
   "cell_type": "code",
   "execution_count": null,
   "id": "2727085c",
   "metadata": {},
   "outputs": [],
   "source": []
  }
 ],
 "metadata": {
  "kernelspec": {
   "display_name": "Python 3 (ipykernel)",
   "language": "python",
   "name": "python3"
  },
  "language_info": {
   "codemirror_mode": {
    "name": "ipython",
    "version": 3
   },
   "file_extension": ".py",
   "mimetype": "text/x-python",
   "name": "python",
   "nbconvert_exporter": "python",
   "pygments_lexer": "ipython3",
   "version": "3.9.13"
  }
 },
 "nbformat": 4,
 "nbformat_minor": 5
}
